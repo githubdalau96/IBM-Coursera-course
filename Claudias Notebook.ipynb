{
  "metadata": {
    "language_info": {
      "codemirror_mode": {
        "name": "python",
        "version": 3
      },
      "file_extension": ".py",
      "mimetype": "text/x-python",
      "name": "python",
      "nbconvert_exporter": "python",
      "pygments_lexer": "ipython3",
      "version": "3.8"
    },
    "kernelspec": {
      "name": "python",
      "display_name": "Pyolite",
      "language": "python"
    }
  },
  "nbformat_minor": 4,
  "nbformat": 4,
  "cells": [
    {
      "cell_type": "markdown",
      "source": "# My Jupyter Notebook on IBM Watson Studio",
      "metadata": {
        "tags": []
      }
    },
    {
      "cell_type": "markdown",
      "source": "**Cláudia Lopes**\n\nI am currently working as a junior researcher in cancer field, but I would like to, in a near future, work with data science. ",
      "metadata": {}
    },
    {
      "cell_type": "markdown",
      "source": "*I am interested in data science because i believe it is the job of the future, with high salaries and above all a lot of freedom. I am interested in that field, because the future is digital, and as such I would like to start working remotely.* ",
      "metadata": {}
    },
    {
      "cell_type": "markdown",
      "source": "### In the next cell I will perform a simple multiplication formula. ",
      "metadata": {
        "tags": []
      }
    },
    {
      "cell_type": "code",
      "source": "2*2",
      "metadata": {
        "trusted": true
      },
      "execution_count": 9,
      "outputs": [
        {
          "execution_count": 9,
          "output_type": "execute_result",
          "data": {
            "text/plain": "4"
          },
          "metadata": {}
        }
      ]
    },
    {
      "cell_type": "markdown",
      "source": "#### Hyperlink \n\n<ahref=\"https://dataplatform.cloud.ibm.com/gallery\">IBM Cloud Gallery</a>\n\n#### Table \n\n| Name | Age |\n| ---- | --- |\n| Cláudia  | 26  |\n| Rui    | 25  |\n| Luiza   | 23 |\n\n#### Bulleted list\n\n1. What is Data Science\n \n2. Why is Data Science important\n   \n3. How to work with Data Science",
      "metadata": {
        "tags": []
      }
    }
  ]
}